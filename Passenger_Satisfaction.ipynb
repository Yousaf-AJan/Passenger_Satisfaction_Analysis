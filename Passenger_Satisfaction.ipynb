{
 "cells": [
  {
   "cell_type": "markdown",
   "metadata": {},
   "source": [
    "# Airline Passenger Satisfaction"
   ]
  },
  {
   "cell_type": "markdown",
   "metadata": {},
   "source": [
    "### Author Name: Yousaf Jan\n",
    "\n",
    "### <span style=\"color:#83898b\">*Understanding the roles of customer type, type of travel, flight distance and inflight service on satisfaction of airline passengers*</span>"
   ]
  },
  {
   "cell_type": "markdown",
   "metadata": {},
   "source": [
    "Airplanes have become a mode of transportation since the early 20th century and with this new mode of transportation a new industry was made, Aviation. Airlines are organizations that take their passengers from one place to another crossing thousands of kilometers of distances which would previously take days or months in mere hours. Modern airlines are no longer just a means of transportation they provide various services to make the long journey comfortable and make sure that their passenger is satisfied. In this assignment I wanted to explore how satisfaction of passengers is affected by their experiences on flight. Specifically, I will explore the relationship between 4 variables which are customer type, type of travel, flight distance and inflight service and how they affect the satisfaction of the passenger. In each column there are several outcomes. Customer type is separated into two types of either Loyal or Disloyal. Type of travel is separated into Personal or Business while Flight Distance and Inflight Service are numeric values. Flight Distance measures distance traveled by the flight while Inflight Service is rating from 1-5. By analyzing all these variables, I want to find out which variables affect satisfaction, and which do not.\n",
    "\n",
    "![Image of Airline](https://upload.wikimedia.org/wikipedia/commons/thumb/0/08/The_Travelers_delight.jpg/640px-The_Travelers_delight.jpg)\n",
    "\n",
    "<p style=\"font-size: x-small\">Kyle Saylors, Public domain, via <a href=\"https://commons.wikimedia.org/wiki/File:The_Travelers_delight.jpg\">[Wikimedia Commons]</p>"
   ]
  },
  {
   "cell_type": "markdown",
   "metadata": {},
   "source": [
    "## Methods\n",
    "### Data Collection"
   ]
  },
  {
   "cell_type": "markdown",
   "metadata": {},
   "source": [
    "This airline dataset was obtained from [Kaggle](https://www.kaggle.com/datasets), a free online resource of general datasets."
   ]
  },
  {
   "cell_type": "code",
   "execution_count": 1,
   "metadata": {},
   "outputs": [],
   "source": [
    "import matplotlib.pyplot as plt\n",
    "import pandas as pd\n",
    "import seaborn as sns\n",
    "from IPython.display import display"
   ]
  },
  {
   "cell_type": "code",
   "execution_count": 2,
   "metadata": {},
   "outputs": [
    {
     "data": {
      "text/html": [
       "<div>\n",
       "<style scoped>\n",
       "    .dataframe tbody tr th:only-of-type {\n",
       "        vertical-align: middle;\n",
       "    }\n",
       "\n",
       "    .dataframe tbody tr th {\n",
       "        vertical-align: top;\n",
       "    }\n",
       "\n",
       "    .dataframe thead th {\n",
       "        text-align: right;\n",
       "    }\n",
       "</style>\n",
       "<table border=\"1\" class=\"dataframe\">\n",
       "  <thead>\n",
       "    <tr style=\"text-align: right;\">\n",
       "      <th></th>\n",
       "      <th>Unnamed: 0</th>\n",
       "      <th>id</th>\n",
       "      <th>Gender</th>\n",
       "      <th>Customer Type</th>\n",
       "      <th>Age</th>\n",
       "      <th>Type of Travel</th>\n",
       "      <th>Class</th>\n",
       "      <th>Flight Distance</th>\n",
       "      <th>Inflight wifi service</th>\n",
       "      <th>Departure/Arrival time convenient</th>\n",
       "      <th>...</th>\n",
       "      <th>Inflight entertainment</th>\n",
       "      <th>On-board service</th>\n",
       "      <th>Leg room service</th>\n",
       "      <th>Baggage handling</th>\n",
       "      <th>Checkin service</th>\n",
       "      <th>Inflight service</th>\n",
       "      <th>Cleanliness</th>\n",
       "      <th>Departure Delay in Minutes</th>\n",
       "      <th>Arrival Delay in Minutes</th>\n",
       "      <th>satisfaction</th>\n",
       "    </tr>\n",
       "  </thead>\n",
       "  <tbody>\n",
       "    <tr>\n",
       "      <th>0</th>\n",
       "      <td>0</td>\n",
       "      <td>19556</td>\n",
       "      <td>Female</td>\n",
       "      <td>Loyal Customer</td>\n",
       "      <td>52</td>\n",
       "      <td>Business travel</td>\n",
       "      <td>Eco</td>\n",
       "      <td>160</td>\n",
       "      <td>5</td>\n",
       "      <td>4</td>\n",
       "      <td>...</td>\n",
       "      <td>5</td>\n",
       "      <td>5</td>\n",
       "      <td>5</td>\n",
       "      <td>5</td>\n",
       "      <td>2</td>\n",
       "      <td>5</td>\n",
       "      <td>5</td>\n",
       "      <td>50</td>\n",
       "      <td>44.0</td>\n",
       "      <td>satisfied</td>\n",
       "    </tr>\n",
       "    <tr>\n",
       "      <th>1</th>\n",
       "      <td>1</td>\n",
       "      <td>90035</td>\n",
       "      <td>Female</td>\n",
       "      <td>Loyal Customer</td>\n",
       "      <td>36</td>\n",
       "      <td>Business travel</td>\n",
       "      <td>Business</td>\n",
       "      <td>2863</td>\n",
       "      <td>1</td>\n",
       "      <td>1</td>\n",
       "      <td>...</td>\n",
       "      <td>4</td>\n",
       "      <td>4</td>\n",
       "      <td>4</td>\n",
       "      <td>4</td>\n",
       "      <td>3</td>\n",
       "      <td>4</td>\n",
       "      <td>5</td>\n",
       "      <td>0</td>\n",
       "      <td>0.0</td>\n",
       "      <td>satisfied</td>\n",
       "    </tr>\n",
       "    <tr>\n",
       "      <th>2</th>\n",
       "      <td>2</td>\n",
       "      <td>12360</td>\n",
       "      <td>Male</td>\n",
       "      <td>disloyal Customer</td>\n",
       "      <td>20</td>\n",
       "      <td>Business travel</td>\n",
       "      <td>Eco</td>\n",
       "      <td>192</td>\n",
       "      <td>2</td>\n",
       "      <td>0</td>\n",
       "      <td>...</td>\n",
       "      <td>2</td>\n",
       "      <td>4</td>\n",
       "      <td>1</td>\n",
       "      <td>3</td>\n",
       "      <td>2</td>\n",
       "      <td>2</td>\n",
       "      <td>2</td>\n",
       "      <td>0</td>\n",
       "      <td>0.0</td>\n",
       "      <td>neutral or dissatisfied</td>\n",
       "    </tr>\n",
       "    <tr>\n",
       "      <th>3</th>\n",
       "      <td>3</td>\n",
       "      <td>77959</td>\n",
       "      <td>Male</td>\n",
       "      <td>Loyal Customer</td>\n",
       "      <td>44</td>\n",
       "      <td>Business travel</td>\n",
       "      <td>Business</td>\n",
       "      <td>3377</td>\n",
       "      <td>0</td>\n",
       "      <td>0</td>\n",
       "      <td>...</td>\n",
       "      <td>1</td>\n",
       "      <td>1</td>\n",
       "      <td>1</td>\n",
       "      <td>1</td>\n",
       "      <td>3</td>\n",
       "      <td>1</td>\n",
       "      <td>4</td>\n",
       "      <td>0</td>\n",
       "      <td>6.0</td>\n",
       "      <td>satisfied</td>\n",
       "    </tr>\n",
       "    <tr>\n",
       "      <th>4</th>\n",
       "      <td>4</td>\n",
       "      <td>36875</td>\n",
       "      <td>Female</td>\n",
       "      <td>Loyal Customer</td>\n",
       "      <td>49</td>\n",
       "      <td>Business travel</td>\n",
       "      <td>Eco</td>\n",
       "      <td>1182</td>\n",
       "      <td>2</td>\n",
       "      <td>3</td>\n",
       "      <td>...</td>\n",
       "      <td>2</td>\n",
       "      <td>2</td>\n",
       "      <td>2</td>\n",
       "      <td>2</td>\n",
       "      <td>4</td>\n",
       "      <td>2</td>\n",
       "      <td>4</td>\n",
       "      <td>0</td>\n",
       "      <td>20.0</td>\n",
       "      <td>satisfied</td>\n",
       "    </tr>\n",
       "    <tr>\n",
       "      <th>...</th>\n",
       "      <td>...</td>\n",
       "      <td>...</td>\n",
       "      <td>...</td>\n",
       "      <td>...</td>\n",
       "      <td>...</td>\n",
       "      <td>...</td>\n",
       "      <td>...</td>\n",
       "      <td>...</td>\n",
       "      <td>...</td>\n",
       "      <td>...</td>\n",
       "      <td>...</td>\n",
       "      <td>...</td>\n",
       "      <td>...</td>\n",
       "      <td>...</td>\n",
       "      <td>...</td>\n",
       "      <td>...</td>\n",
       "      <td>...</td>\n",
       "      <td>...</td>\n",
       "      <td>...</td>\n",
       "      <td>...</td>\n",
       "      <td>...</td>\n",
       "    </tr>\n",
       "    <tr>\n",
       "      <th>25971</th>\n",
       "      <td>25971</td>\n",
       "      <td>78463</td>\n",
       "      <td>Male</td>\n",
       "      <td>disloyal Customer</td>\n",
       "      <td>34</td>\n",
       "      <td>Business travel</td>\n",
       "      <td>Business</td>\n",
       "      <td>526</td>\n",
       "      <td>3</td>\n",
       "      <td>3</td>\n",
       "      <td>...</td>\n",
       "      <td>4</td>\n",
       "      <td>3</td>\n",
       "      <td>2</td>\n",
       "      <td>4</td>\n",
       "      <td>4</td>\n",
       "      <td>5</td>\n",
       "      <td>4</td>\n",
       "      <td>0</td>\n",
       "      <td>0.0</td>\n",
       "      <td>neutral or dissatisfied</td>\n",
       "    </tr>\n",
       "    <tr>\n",
       "      <th>25972</th>\n",
       "      <td>25972</td>\n",
       "      <td>71167</td>\n",
       "      <td>Male</td>\n",
       "      <td>Loyal Customer</td>\n",
       "      <td>23</td>\n",
       "      <td>Business travel</td>\n",
       "      <td>Business</td>\n",
       "      <td>646</td>\n",
       "      <td>4</td>\n",
       "      <td>4</td>\n",
       "      <td>...</td>\n",
       "      <td>4</td>\n",
       "      <td>4</td>\n",
       "      <td>5</td>\n",
       "      <td>5</td>\n",
       "      <td>5</td>\n",
       "      <td>5</td>\n",
       "      <td>4</td>\n",
       "      <td>0</td>\n",
       "      <td>0.0</td>\n",
       "      <td>satisfied</td>\n",
       "    </tr>\n",
       "    <tr>\n",
       "      <th>25973</th>\n",
       "      <td>25973</td>\n",
       "      <td>37675</td>\n",
       "      <td>Female</td>\n",
       "      <td>Loyal Customer</td>\n",
       "      <td>17</td>\n",
       "      <td>Personal Travel</td>\n",
       "      <td>Eco</td>\n",
       "      <td>828</td>\n",
       "      <td>2</td>\n",
       "      <td>5</td>\n",
       "      <td>...</td>\n",
       "      <td>2</td>\n",
       "      <td>4</td>\n",
       "      <td>3</td>\n",
       "      <td>4</td>\n",
       "      <td>5</td>\n",
       "      <td>4</td>\n",
       "      <td>2</td>\n",
       "      <td>0</td>\n",
       "      <td>0.0</td>\n",
       "      <td>neutral or dissatisfied</td>\n",
       "    </tr>\n",
       "    <tr>\n",
       "      <th>25974</th>\n",
       "      <td>25974</td>\n",
       "      <td>90086</td>\n",
       "      <td>Male</td>\n",
       "      <td>Loyal Customer</td>\n",
       "      <td>14</td>\n",
       "      <td>Business travel</td>\n",
       "      <td>Business</td>\n",
       "      <td>1127</td>\n",
       "      <td>3</td>\n",
       "      <td>3</td>\n",
       "      <td>...</td>\n",
       "      <td>4</td>\n",
       "      <td>3</td>\n",
       "      <td>2</td>\n",
       "      <td>5</td>\n",
       "      <td>4</td>\n",
       "      <td>5</td>\n",
       "      <td>4</td>\n",
       "      <td>0</td>\n",
       "      <td>0.0</td>\n",
       "      <td>satisfied</td>\n",
       "    </tr>\n",
       "    <tr>\n",
       "      <th>25975</th>\n",
       "      <td>25975</td>\n",
       "      <td>34799</td>\n",
       "      <td>Female</td>\n",
       "      <td>Loyal Customer</td>\n",
       "      <td>42</td>\n",
       "      <td>Personal Travel</td>\n",
       "      <td>Eco</td>\n",
       "      <td>264</td>\n",
       "      <td>2</td>\n",
       "      <td>5</td>\n",
       "      <td>...</td>\n",
       "      <td>1</td>\n",
       "      <td>1</td>\n",
       "      <td>2</td>\n",
       "      <td>1</td>\n",
       "      <td>1</td>\n",
       "      <td>1</td>\n",
       "      <td>1</td>\n",
       "      <td>0</td>\n",
       "      <td>0.0</td>\n",
       "      <td>neutral or dissatisfied</td>\n",
       "    </tr>\n",
       "  </tbody>\n",
       "</table>\n",
       "<p>25976 rows × 25 columns</p>\n",
       "</div>"
      ],
      "text/plain": [
       "       Unnamed: 0     id  Gender      Customer Type  Age   Type of Travel  \\\n",
       "0               0  19556  Female     Loyal Customer   52  Business travel   \n",
       "1               1  90035  Female     Loyal Customer   36  Business travel   \n",
       "2               2  12360    Male  disloyal Customer   20  Business travel   \n",
       "3               3  77959    Male     Loyal Customer   44  Business travel   \n",
       "4               4  36875  Female     Loyal Customer   49  Business travel   \n",
       "...           ...    ...     ...                ...  ...              ...   \n",
       "25971       25971  78463    Male  disloyal Customer   34  Business travel   \n",
       "25972       25972  71167    Male     Loyal Customer   23  Business travel   \n",
       "25973       25973  37675  Female     Loyal Customer   17  Personal Travel   \n",
       "25974       25974  90086    Male     Loyal Customer   14  Business travel   \n",
       "25975       25975  34799  Female     Loyal Customer   42  Personal Travel   \n",
       "\n",
       "          Class  Flight Distance  Inflight wifi service  \\\n",
       "0           Eco              160                      5   \n",
       "1      Business             2863                      1   \n",
       "2           Eco              192                      2   \n",
       "3      Business             3377                      0   \n",
       "4           Eco             1182                      2   \n",
       "...         ...              ...                    ...   \n",
       "25971  Business              526                      3   \n",
       "25972  Business              646                      4   \n",
       "25973       Eco              828                      2   \n",
       "25974  Business             1127                      3   \n",
       "25975       Eco              264                      2   \n",
       "\n",
       "       Departure/Arrival time convenient  ...  Inflight entertainment  \\\n",
       "0                                      4  ...                       5   \n",
       "1                                      1  ...                       4   \n",
       "2                                      0  ...                       2   \n",
       "3                                      0  ...                       1   \n",
       "4                                      3  ...                       2   \n",
       "...                                  ...  ...                     ...   \n",
       "25971                                  3  ...                       4   \n",
       "25972                                  4  ...                       4   \n",
       "25973                                  5  ...                       2   \n",
       "25974                                  3  ...                       4   \n",
       "25975                                  5  ...                       1   \n",
       "\n",
       "       On-board service  Leg room service  Baggage handling  Checkin service  \\\n",
       "0                     5                 5                 5                2   \n",
       "1                     4                 4                 4                3   \n",
       "2                     4                 1                 3                2   \n",
       "3                     1                 1                 1                3   \n",
       "4                     2                 2                 2                4   \n",
       "...                 ...               ...               ...              ...   \n",
       "25971                 3                 2                 4                4   \n",
       "25972                 4                 5                 5                5   \n",
       "25973                 4                 3                 4                5   \n",
       "25974                 3                 2                 5                4   \n",
       "25975                 1                 2                 1                1   \n",
       "\n",
       "       Inflight service  Cleanliness  Departure Delay in Minutes  \\\n",
       "0                     5            5                          50   \n",
       "1                     4            5                           0   \n",
       "2                     2            2                           0   \n",
       "3                     1            4                           0   \n",
       "4                     2            4                           0   \n",
       "...                 ...          ...                         ...   \n",
       "25971                 5            4                           0   \n",
       "25972                 5            4                           0   \n",
       "25973                 4            2                           0   \n",
       "25974                 5            4                           0   \n",
       "25975                 1            1                           0   \n",
       "\n",
       "       Arrival Delay in Minutes             satisfaction  \n",
       "0                          44.0                satisfied  \n",
       "1                           0.0                satisfied  \n",
       "2                           0.0  neutral or dissatisfied  \n",
       "3                           6.0                satisfied  \n",
       "4                          20.0                satisfied  \n",
       "...                         ...                      ...  \n",
       "25971                       0.0  neutral or dissatisfied  \n",
       "25972                       0.0                satisfied  \n",
       "25973                       0.0  neutral or dissatisfied  \n",
       "25974                       0.0                satisfied  \n",
       "25975                       0.0  neutral or dissatisfied  \n",
       "\n",
       "[25976 rows x 25 columns]"
      ]
     },
     "metadata": {},
     "output_type": "display_data"
    }
   ],
   "source": [
    "# Load data\n",
    "Passengers = pd.read_csv('airline.csv')\n",
    "\n",
    "display(Passengers)"
   ]
  },
  {
   "cell_type": "markdown",
   "metadata": {},
   "source": [
    "### Data Cleaning"
   ]
  },
  {
   "cell_type": "markdown",
   "metadata": {},
   "source": [
    "The Customer Type, Type of Travel and Satisfaction columns in the Passenger satisfaction dataset was recoded for better readability. "
   ]
  },
  {
   "cell_type": "code",
   "execution_count": 3,
   "metadata": {},
   "outputs": [],
   "source": [
    "Passengers = Passengers.replace({'Type of Travel': {'Business travel': 'Business', 'Personal Travel': 'Personal'}})\n",
    "\n",
    "Passengers = Passengers.replace({'Customer Type': {'Loyal Customer': 'Loyal', 'disloyal Customer': 'Disloyal'}})\n",
    "\n",
    "Passengers = Passengers.replace({'satisfaction': {'satisfied': 'Satisfied', 'neutral or dissatisfied': 'Neutral/Dissatisfied'}})\n",
    "\n",
    "Passengers = Passengers.rename(columns={'satisfaction': 'Satisfaction'})"
   ]
  },
  {
   "cell_type": "markdown",
   "metadata": {},
   "source": [
    "## Analyses\n",
    "\n",
    "I will explore the relationships between Customer Type, Type of Travel, Flight Distance and Inflight service on satisfaction with exploratory analyses which will include visualizations and statistical summaries."
   ]
  },
  {
   "cell_type": "markdown",
   "metadata": {},
   "source": [
    "### Distributions"
   ]
  },
  {
   "cell_type": "markdown",
   "metadata": {},
   "source": [
    "#### Loyalty\n",
    "\n",
    "To begin I will explore distributions in our Passenger data. Figure below shows the distribution of Customer Types among the Passenger. As we can see by observing the Pie Chart below that most of the customers were Loyal."
   ]
  },
  {
   "cell_type": "code",
   "execution_count": 4,
   "metadata": {},
   "outputs": [
    {
     "data": {
      "image/png": "[encoded data removed]",
      "text/plain": [
       "<Figure size 432x432 with 1 Axes>"
      ]
     },
     "metadata": {},
     "output_type": "display_data"
    }
   ],
   "source": [
    "Cust_Type_Count = Passengers['Customer Type'].value_counts()\n",
    "\n",
    "#Create a pie chart based on Customer Type\n",
    "plt.figure(figsize=(6,6), facecolor='white')\n",
    "plt.pie(Cust_Type_Count, labels=Cust_Type_Count.index, autopct='%1.1f%%', startangle=90)\n",
    "plt.title('Customer Type Distribution')\n",
    "plt.show()"
   ]
  },
  {
   "cell_type": "markdown",
   "metadata": {},
   "source": [
    "#### Loyalty and Satisfaction\n",
    "\n",
    "An examination of loyalty, and satisfaction status. The table below presents a summary of Satisfaction data which is summarised based on Customer Type and Satisfaction."
   ]
  },
  {
   "cell_type": "code",
   "execution_count": 5,
   "metadata": {},
   "outputs": [
    {
     "data": {
      "text/html": [
       "<div>\n",
       "<style scoped>\n",
       "    .dataframe tbody tr th:only-of-type {\n",
       "        vertical-align: middle;\n",
       "    }\n",
       "\n",
       "    .dataframe tbody tr th {\n",
       "        vertical-align: top;\n",
       "    }\n",
       "\n",
       "    .dataframe thead th {\n",
       "        text-align: right;\n",
       "    }\n",
       "</style>\n",
       "<table border=\"1\" class=\"dataframe\">\n",
       "  <thead>\n",
       "    <tr style=\"text-align: right;\">\n",
       "      <th>Satisfaction</th>\n",
       "      <th>Neutral/Dissatisfied</th>\n",
       "      <th>Satisfied</th>\n",
       "      <th>Satisfaction Ratio</th>\n",
       "    </tr>\n",
       "    <tr>\n",
       "      <th>Customer Type</th>\n",
       "      <th></th>\n",
       "      <th></th>\n",
       "      <th></th>\n",
       "    </tr>\n",
       "  </thead>\n",
       "  <tbody>\n",
       "    <tr>\n",
       "      <th>Disloyal</th>\n",
       "      <td>3591</td>\n",
       "      <td>1208</td>\n",
       "      <td>25.0</td>\n",
       "    </tr>\n",
       "    <tr>\n",
       "      <th>Loyal</th>\n",
       "      <td>10982</td>\n",
       "      <td>10195</td>\n",
       "      <td>48.0</td>\n",
       "    </tr>\n",
       "  </tbody>\n",
       "</table>\n",
       "</div>"
      ],
      "text/plain": [
       "Satisfaction   Neutral/Dissatisfied  Satisfied  Satisfaction Ratio\n",
       "Customer Type                                                     \n",
       "Disloyal                       3591       1208                25.0\n",
       "Loyal                         10982      10195                48.0"
      ]
     },
     "metadata": {},
     "output_type": "display_data"
    }
   ],
   "source": [
    "#Create a table by grouping Customer Type and Satisfaction together\n",
    "grouped_passenger = Passengers.groupby(['Customer Type','Satisfaction']).size().unstack()\n",
    "\n",
    "#Create a new column that calculates the Satisfaction Ratio by Customer Type\n",
    "grouped_passenger['Satisfaction Ratio'] = (grouped_passenger['Satisfied'] / grouped_passenger.sum(axis=1)) * 100\n",
    "grouped_passenger['Satisfaction Ratio'] = grouped_passenger['Satisfaction Ratio'].round(0)\n",
    "\n",
    "#Display the table\n",
    "display(grouped_passenger)"
   ]
  },
  {
   "cell_type": "markdown",
   "metadata": {},
   "source": [
    "An examination of the table shows us that disloyal passengers had a lower satisfaction level while loyal passengers had a higher satisfaction level. Loyal passengers had higher satisfaction ratio compared to disloyal passengers. Difference between the satisfaction ratio suggests that more loyal passengers tend to be satisfied compared to disloyal passengers. This relationship suggests passengers tended to be loyal based on their satisfaction. A further analysis reveals that loyalty does not really affect satisfaction as there are an almost equal number of passengers that are neutral/dissatisfied and that are satisfied who are both loyal to the airline. The figure below demonstrates this relationship."
   ]
  },
  {
   "cell_type": "code",
   "execution_count": 6,
   "metadata": {},
   "outputs": [
    {
     "data": {
      "image/png": "[encoded data removed]",
      "text/plain": [
       "<Figure size 720x432 with 1 Axes>"
      ]
     },
     "metadata": {
      "needs_background": "light"
     },
     "output_type": "display_data"
    }
   ],
   "source": [
    "#Create a table by grouping Customer Type and Satisfaction together\n",
    "grouped_passenger_graph = Passengers.groupby(['Customer Type','Satisfaction']).size().unstack()\n",
    "\n",
    "#Make the bar bar graph based on grouped_passenger_graph\n",
    "grouped_passenger_graph.plot(kind='bar', stacked=True, figsize=(10, 6))\n",
    "\n",
    "#Label the graph\n",
    "plt.title('Satisfaction Counts by Customer Type')\n",
    "plt.xlabel('Type of Travel')\n",
    "plt.ylabel('Count')\n",
    "plt.legend(title='Satisfaction', bbox_to_anchor=(1.05, 1), loc='upper left')\n",
    "\n",
    "#Display the graph\n",
    "plt.show()"
   ]
  },
  {
   "cell_type": "markdown",
   "metadata": {},
   "source": [
    "#### Type of Travel\n",
    "\n",
    "The Airline had more Passengers that used it for Business purposes as opposed to Personal purposes."
   ]
  },
  {
   "cell_type": "code",
   "execution_count": 7,
   "metadata": {},
   "outputs": [
    {
     "data": {
      "image/png": "[encoded data removed]",
      "text/plain": [
       "<Figure size 504x360 with 1 Axes>"
      ]
     },
     "metadata": {
      "needs_background": "light"
     },
     "output_type": "display_data"
    }
   ],
   "source": [
    "#Make and display a histogram based on Type of Travel\n",
    "h = Passengers['Type of Travel'].hist(bins=3, figsize=(7, 5))"
   ]
  },
  {
   "cell_type": "markdown",
   "metadata": {},
   "source": [
    "#### Type of Travel and Satisfaction\n",
    "\n",
    "The table below presents a summary of satisfaction based on Type of Travel. "
   ]
  },
  {
   "cell_type": "code",
   "execution_count": 8,
   "metadata": {},
   "outputs": [
    {
     "data": {
      "text/html": [
       "<div>\n",
       "<style scoped>\n",
       "    .dataframe tbody tr th:only-of-type {\n",
       "        vertical-align: middle;\n",
       "    }\n",
       "\n",
       "    .dataframe tbody tr th {\n",
       "        vertical-align: top;\n",
       "    }\n",
       "\n",
       "    .dataframe thead th {\n",
       "        text-align: right;\n",
       "    }\n",
       "</style>\n",
       "<table border=\"1\" class=\"dataframe\">\n",
       "  <thead>\n",
       "    <tr style=\"text-align: right;\">\n",
       "      <th>Satisfaction</th>\n",
       "      <th>Neutral/Dissatisfied</th>\n",
       "      <th>Satisfied</th>\n",
       "    </tr>\n",
       "    <tr>\n",
       "      <th>Type of Travel</th>\n",
       "      <th></th>\n",
       "      <th></th>\n",
       "    </tr>\n",
       "  </thead>\n",
       "  <tbody>\n",
       "    <tr>\n",
       "      <th>Business</th>\n",
       "      <td>7428</td>\n",
       "      <td>10610</td>\n",
       "    </tr>\n",
       "    <tr>\n",
       "      <th>Personal</th>\n",
       "      <td>7145</td>\n",
       "      <td>793</td>\n",
       "    </tr>\n",
       "  </tbody>\n",
       "</table>\n",
       "</div>"
      ],
      "text/plain": [
       "Satisfaction    Neutral/Dissatisfied  Satisfied\n",
       "Type of Travel                                 \n",
       "Business                        7428      10610\n",
       "Personal                        7145        793"
      ]
     },
     "metadata": {},
     "output_type": "display_data"
    }
   ],
   "source": [
    "#Group together Type of Travel and Satisfaction into a table\n",
    "Type_Satisfaction= Passengers.groupby(['Type of Travel', 'Satisfaction']).size().unstack()\n",
    "\n",
    "#Display the table\n",
    "display(Type_Satisfaction)"
   ]
  },
  {
   "cell_type": "markdown",
   "metadata": {},
   "source": [
    "An examination of this table shows that majority of passengers that travel for business purposes are satisfied while the majority of those who travel for personal purposes are Neutral/Dissatisfied. The figure below visualizes the satisfaction based on type of travel. "
   ]
  },
  {
   "cell_type": "code",
   "execution_count": 9,
   "metadata": {},
   "outputs": [
    {
     "data": {
      "image/png": "[encoded data removed]",
      "text/plain": [
       "<Figure size 432x288 with 1 Axes>"
      ]
     },
     "metadata": {
      "needs_background": "light"
     },
     "output_type": "display_data"
    }
   ],
   "source": [
    "#Display a bar graph based on Type of Travel and Satisfaction\n",
    "p = sns.countplot(data=Passengers, x=\"Type of Travel\", hue=\"Satisfaction\").set(title='Satifaction Based On Type of Travel')"
   ]
  },
  {
   "cell_type": "markdown",
   "metadata": {},
   "source": [
    "#### Inflight Service\n",
    "\n",
    "The figure below showcases that the majority of the passengers gave rating of 3 or higher for inflight service."
   ]
  },
  {
   "cell_type": "code",
   "execution_count": 10,
   "metadata": {},
   "outputs": [
    {
     "data": {
      "image/png": "[encoded data removed]",
      "text/plain": [
       "<Figure size 504x360 with 1 Axes>"
      ]
     },
     "metadata": {
      "needs_background": "light"
     },
     "output_type": "display_data"
    }
   ],
   "source": [
    "# Inflight service distribution\n",
    "service = Passengers['Inflight service'].hist(bins=6, figsize=(7, 5),grid=False)\n"
   ]
  },
  {
   "cell_type": "markdown",
   "metadata": {},
   "source": [
    "#### Flight Distance\n",
    "\n",
    "The table below shows representation of flight distances, with each entry separated by 1000 kilometers."
   ]
  },
  {
   "cell_type": "code",
   "execution_count": 11,
   "metadata": {},
   "outputs": [
    {
     "data": {
      "text/html": [
       "<div>\n",
       "<style scoped>\n",
       "    .dataframe tbody tr th:only-of-type {\n",
       "        vertical-align: middle;\n",
       "    }\n",
       "\n",
       "    .dataframe tbody tr th {\n",
       "        vertical-align: top;\n",
       "    }\n",
       "\n",
       "    .dataframe thead th {\n",
       "        text-align: right;\n",
       "    }\n",
       "</style>\n",
       "<table border=\"1\" class=\"dataframe\">\n",
       "  <thead>\n",
       "    <tr style=\"text-align: right;\">\n",
       "      <th></th>\n",
       "      <th>Travel Distance</th>\n",
       "      <th>Average Distance</th>\n",
       "      <th>Max</th>\n",
       "      <th>Min</th>\n",
       "      <th>Count</th>\n",
       "    </tr>\n",
       "  </thead>\n",
       "  <tbody>\n",
       "    <tr>\n",
       "      <th>0</th>\n",
       "      <td>[0, 1000)</td>\n",
       "      <td>503.03</td>\n",
       "      <td>999</td>\n",
       "      <td>31</td>\n",
       "      <td>15035</td>\n",
       "    </tr>\n",
       "    <tr>\n",
       "      <th>1</th>\n",
       "      <td>[1000, 2000)</td>\n",
       "      <td>1431.23</td>\n",
       "      <td>1999</td>\n",
       "      <td>1000</td>\n",
       "      <td>5486</td>\n",
       "    </tr>\n",
       "    <tr>\n",
       "      <th>2</th>\n",
       "      <td>[2000, 3000)</td>\n",
       "      <td>2463.37</td>\n",
       "      <td>2999</td>\n",
       "      <td>2000</td>\n",
       "      <td>3401</td>\n",
       "    </tr>\n",
       "    <tr>\n",
       "      <th>3</th>\n",
       "      <td>[3000, 4000)</td>\n",
       "      <td>3501.89</td>\n",
       "      <td>3998</td>\n",
       "      <td>3000</td>\n",
       "      <td>2033</td>\n",
       "    </tr>\n",
       "    <tr>\n",
       "      <th>4</th>\n",
       "      <td>[4000, 5000)</td>\n",
       "      <td>4654.76</td>\n",
       "      <td>4983</td>\n",
       "      <td>4000</td>\n",
       "      <td>21</td>\n",
       "    </tr>\n",
       "  </tbody>\n",
       "</table>\n",
       "</div>"
      ],
      "text/plain": [
       "  Travel Distance  Average Distance   Max   Min  Count\n",
       "0       [0, 1000)            503.03   999    31  15035\n",
       "1    [1000, 2000)           1431.23  1999  1000   5486\n",
       "2    [2000, 3000)           2463.37  2999  2000   3401\n",
       "3    [3000, 4000)           3501.89  3998  3000   2033\n",
       "4    [4000, 5000)           4654.76  4983  4000     21"
      ]
     },
     "metadata": {},
     "output_type": "display_data"
    }
   ],
   "source": [
    "#Create a range that will separate the Flight Distance by 1000 kilometers for every entry\n",
    "kms_spread = range(0, int(Passengers['Flight Distance'].max()) + 1001, 1000)\n",
    "\n",
    "#Create a new Column based on Flight Distane separated by kms_spread \n",
    "Passengers['Travel Distance'] = pd.cut(Passengers['Flight Distance'], bins=kms_spread, right=False)\n",
    "\n",
    "#Get the average, min, max and count\n",
    "distance_stats= Passengers.groupby('Travel Distance')['Flight Distance'].mean().reset_index().round(2)\n",
    "distance_stats['Max'] = Passengers.groupby('Travel Distance')['Flight Distance'].max().values.round(2)\n",
    "distance_stats['Min'] = Passengers.groupby('Travel Distance')['Flight Distance'].min().values.round(2)\n",
    "distance_stats['Count'] = Passengers.groupby('Travel Distance')['Flight Distance'].count().values.round(2)\n",
    "\n",
    "#Rename the Flight Distance column to Average Distance\n",
    "distance_stats.rename(columns={'Flight Distance': 'Average Distance'}, inplace=True)\n",
    "\n",
    "#Display the table\n",
    "display(distance_stats)"
   ]
  },
  {
   "cell_type": "markdown",
   "metadata": {},
   "source": [
    "By examining this table, we can see that majority of the flights are short-distance flights up to only 1000 kilometers of travel and with average distance traveled in that entry being around 503 kilometers. The 2nd entry which are medium-distance flights (1000-2000 kilometres) show that over 5400 passengers travel this far with the average travel distance being around 1430 kilometers. This trend continues with each entry. As the travel distance increases the number of passengers traveling that distance decreases. The figure below showcases this trend."
   ]
  },
  {
   "cell_type": "code",
   "execution_count": 12,
   "metadata": {},
   "outputs": [
    {
     "data": {
      "image/png": "[encoded data removed]",
      "text/plain": [
       "<Figure size 720x432 with 1 Axes>"
      ]
     },
     "metadata": {},
     "output_type": "display_data"
    }
   ],
   "source": [
    "#Convert the Distance to string so that it can be used to plot on the x-axis\n",
    "distance_labels = distance_stats['Travel Distance'].astype(str)\n",
    "\n",
    "#Create a line graph based on Flight Distance\n",
    "plt.figure(figsize=(10, 6),facecolor='white')\n",
    "plt.plot(distance_labels, distance_stats['Count'], marker='o', label='Flight Count')\n",
    "\n",
    "#Label the line graph\n",
    "plt.xlabel('Distance Range')\n",
    "plt.ylabel('Number of Pasengers')\n",
    "plt.title('Number of Passengers in Each Distance Range')\n",
    "plt.legend()\n",
    "\n",
    "#Display the line graph\n",
    "plt.show()"
   ]
  },
  {
   "cell_type": "markdown",
   "metadata": {},
   "source": [
    "### Flight Distance and Satisfaction \n",
    "\n",
    "An examination of Flight Distance, and Satisfaction status. The table below presents a summary of Satisfaction data which is summarised based on Flight Distance and Satisfaction."
   ]
  },
  {
   "cell_type": "code",
   "execution_count": 13,
   "metadata": {},
   "outputs": [
    {
     "data": {
      "text/html": [
       "<div>\n",
       "<style scoped>\n",
       "    .dataframe tbody tr th:only-of-type {\n",
       "        vertical-align: middle;\n",
       "    }\n",
       "\n",
       "    .dataframe tbody tr th {\n",
       "        vertical-align: top;\n",
       "    }\n",
       "\n",
       "    .dataframe thead th {\n",
       "        text-align: right;\n",
       "    }\n",
       "</style>\n",
       "<table border=\"1\" class=\"dataframe\">\n",
       "  <thead>\n",
       "    <tr style=\"text-align: right;\">\n",
       "      <th></th>\n",
       "      <th>Satisfaction</th>\n",
       "      <th>Number of Passengers</th>\n",
       "      <th>Average Flight Distance(Kms)</th>\n",
       "      <th>Max Flight Distance(Kms)</th>\n",
       "      <th>Min Flight Distance(Kms)</th>\n",
       "    </tr>\n",
       "  </thead>\n",
       "  <tbody>\n",
       "    <tr>\n",
       "      <th>0</th>\n",
       "      <td>Neutral/Dissatisfied</td>\n",
       "      <td>14573</td>\n",
       "      <td>932.93</td>\n",
       "      <td>4983</td>\n",
       "      <td>31</td>\n",
       "    </tr>\n",
       "    <tr>\n",
       "      <th>1</th>\n",
       "      <td>Satisfied</td>\n",
       "      <td>11403</td>\n",
       "      <td>1527.17</td>\n",
       "      <td>4983</td>\n",
       "      <td>31</td>\n",
       "    </tr>\n",
       "  </tbody>\n",
       "</table>\n",
       "</div>"
      ],
      "text/plain": [
       "           Satisfaction  Number of Passengers  Average Flight Distance(Kms)  \\\n",
       "0  Neutral/Dissatisfied                 14573                        932.93   \n",
       "1             Satisfied                 11403                       1527.17   \n",
       "\n",
       "   Max Flight Distance(Kms)  Min Flight Distance(Kms)  \n",
       "0                      4983                        31  \n",
       "1                      4983                        31  "
      ]
     },
     "metadata": {},
     "output_type": "display_data"
    }
   ],
   "source": [
    "mean_flight_distance = Passengers.groupby('Satisfaction')['Flight Distance'].mean().round(2)\n",
    "max_flight_distance = Passengers.groupby('Satisfaction')['Flight Distance'].max()\n",
    "min_flight_distance = Passengers.groupby('Satisfaction')['Flight Distance'].min()\n",
    "count_flight_distance = Passengers.groupby('Satisfaction')['Flight Distance'].count()\n",
    "\n",
    "# Create a new data frame which contains the count, mean, max and min of the group object of \n",
    "# Satisfaction and Flight Distance\n",
    "flight_data = pd.DataFrame({\n",
    "    'Number of Passengers':count_flight_distance,\n",
    "    'Average Flight Distance(Kms)': mean_flight_distance,\n",
    "    'Max Flight Distance(Kms)': max_flight_distance,\n",
    "    'Min Flight Distance(Kms)': min_flight_distance\n",
    "}).reset_index()\n",
    "\n",
    "display(flight_data)"
   ]
  },
  {
   "cell_type": "markdown",
   "metadata": {},
   "source": [
    "An examination of this table reveals that a higher proportion of passengers are Neutral/Dissatisfied passengers who traveled on average around 932 kilometers while Satisfied passengers traveled on average around 1527 kilometers. This proves that passengers that tend to travel longer are satisfied as opposed to neutral/dissatisfied passengers who travel less distances. The max and min flight distance are the same which suggests that there are passengers that traveled the same flight, but some were satisfied and others the opposite which shows that these values can't be really used to distinguish whether a passenger is satisfied or not. The figure below shows a breakdown of satisfaction by flight distance."
   ]
  },
  {
   "cell_type": "code",
   "execution_count": 14,
   "metadata": {},
   "outputs": [
    {
     "data": {
      "image/png": "[encoded data removed]",
      "text/plain": [
       "<Figure size 432x432 with 1 Axes>"
      ]
     },
     "metadata": {},
     "output_type": "display_data"
    }
   ],
   "source": [
    "#Create a boxplot based on Flight Distance and Satisfaction\n",
    "plt.figure(figsize=(6,6),facecolor='white')\n",
    "sns.boxplot(x='Flight Distance',y='Satisfaction',data=Passengers,palette='Set3')\n",
    "plt.title('Satisfaction Based on Flight Distances')\n",
    "\n",
    "#Display the boxplot\n",
    "plt.show()"
   ]
  },
  {
   "cell_type": "markdown",
   "metadata": {},
   "source": [
    "### Type of Travel, Inflight Service and Satisfaction ###\n",
    "\n",
    "A further examination of Type of Travel, Inflight Service on Satisfaction reveals that most passengers that were satisfied traveled for business purposes and gave a score of 3 or higher as opposed to those that traveled for business purposes."
   ]
  },
  {
   "cell_type": "code",
   "execution_count": 15,
   "metadata": {},
   "outputs": [
    {
     "data": {
      "image/png": "[encoded data removed]",
      "text/plain": [
       "<Figure size 1080x576 with 2 Axes>"
      ]
     },
     "metadata": {},
     "output_type": "display_data"
    }
   ],
   "source": [
    "grouped_passenger = Passengers.groupby(['Type of Travel','Inflight service','Satisfaction']).size().unstack()\n",
    "\n",
    "# Drop the rows which contain missing data\n",
    "grouped_passenger = grouped_passenger.dropna(axis=0)\n",
    "\n",
    "#Create heatmap\n",
    "plt.figure(figsize=(15, 8),facecolor='white')\n",
    "sns.heatmap(grouped_passenger, annot=True, fmt='g', cmap='viridis', cbar_kws={'label': 'Passenger Count'})\n",
    "plt.title('Satisfaction of Passengers by Type of Travel and Inflight Service')\n",
    "plt.show()\n"
   ]
  },
  {
   "cell_type": "markdown",
   "metadata": {},
   "source": [
    "## Discussion ##"
   ]
  },
  {
   "cell_type": "markdown",
   "metadata": {},
   "source": [
    "In this assignment, I explored data from an Airline Passenger Satisfaction dataset, and focused on relationships between Customer Type, Type of Travel, Inflight Service, and Flight Distance on Satisfaction. An exploratory analysis showed that each of these variables affected passenger satisfaction in positive or negative ways. I found that loyal passengers had a higher ratio of satisfaction as opposed to disloyal passengers however there were an almost equal number of loyal passengers that were neutral/dissatisfied which revealed that loyalty does not affect satisfaction. Passengers that flew far distances tended to be more satisfied as opposed to those that flew less. Similarly, majority of passengers that traveled for business purposes were satisfied as opposed to their counterparts. A further examination of satisfaction by type of travel and rating of inflight service revealed that majority of passengers that were satisfied traveled for business purposes and gave a rating of 3 or higher for inflight service while majority of those that were neutral/dissatisfied traveled for personal purposes and gave a rating of 3 or higher for inflight service. These analyses prove that the reason as to why passengers travel affects satisfaction the most. These outcomes suggest airlines should consider providing incentives or enhanced services for people that travel for personal purposes. Some incentives they could provide could be travel packages which provides accommodations and car rentals. These services would narrow the gap of satisfaction between people that travel for personal and business purposes. "
   ]
  },
  {
   "cell_type": "markdown",
   "metadata": {},
   "source": [
    "## References\n",
    "1. Source data - https://www.kaggle.com/datasets/teejmahal20/airline-passenger-satisfaction?select=test.csv\n",
    "2. Pandas for data manipulation\n",
    "3. Seaborn for data viz\n",
    "4. Matplotlib for data viz \n",
    "5. Heatmap Source - https://seaborn.pydata.org/generated/seaborn.heatmap.html\n",
    "6. Heatmap Source- https://stackoverflow.com/questions/37790429/seaborn-heatmap-using-pandas-dataframe\n",
    "7. Pie Chart - https://www.w3schools.com/python/matplotlib_pie_charts.asp\n",
    "8. Line Graph - https://matplotlib.org/stable/tutorials/pyplot.html\n"
   ]
  }
 ],
 "metadata": {
  "kernelspec": {
   "display_name": "base",
   "language": "python",
   "name": "python3"
  },
  "language_info": {
   "codemirror_mode": {
    "name": "ipython",
    "version": 3
   },
   "file_extension": ".py",
   "mimetype": "text/x-python",
   "name": "python",
   "nbconvert_exporter": "python",
   "pygments_lexer": "ipython3",
   "version": "3.9.12"
  }
 },
 "nbformat": 4,
 "nbformat_minor": 2
}
